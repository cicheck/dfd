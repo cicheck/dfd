{
 "cells": [
  {
   "cell_type": "markdown",
   "id": "c8dac670",
   "metadata": {},
   "source": [
    "# Evaluate model"
   ]
  },
  {
   "cell_type": "markdown",
   "id": "6b53af78",
   "metadata": {},
   "source": [
    "## Imports"
   ]
  },
  {
   "cell_type": "code",
   "execution_count": 40,
   "id": "eeebb18b",
   "metadata": {},
   "outputs": [],
   "source": [
    "import pathlib\n",
    "import re\n",
    "import tempfile\n",
    "import shutil\n",
    "\n",
    "import tensorflow as tf\n",
    "\n",
    "from tensorflow.keras import models\n",
    "from tensorflow.keras import metrics\n",
    "from tensorflow.keras import optimizers\n",
    "from tensorflow.keras.preprocessing import image"
   ]
  },
  {
   "cell_type": "markdown",
   "id": "ce8e2694",
   "metadata": {},
   "source": [
    "## Config"
   ]
  },
  {
   "cell_type": "code",
   "execution_count": 2,
   "id": "3e98e469",
   "metadata": {},
   "outputs": [],
   "source": [
    "MODEL_PATH = pathlib.Path(\n",
    "    \"/media/cicheck/Extreme Pro/models/mod_1/best_mod_1_meso_net_05_0.11.h5\"\n",
    ")\n",
    "DATASET_PATH = pathlib.Path(\"/media/cicheck/Extreme Pro/datasets/modified/mod_1\")\n",
    "\n",
    "IMAGE_SIZE = (256, 256)\n",
    "BATCH_SIZE = 32"
   ]
  },
  {
   "cell_type": "markdown",
   "id": "2d702fa8",
   "metadata": {},
   "source": [
    "## Utils"
   ]
  },
  {
   "cell_type": "code",
   "execution_count": 3,
   "id": "6697ee39",
   "metadata": {},
   "outputs": [],
   "source": [
    "_metric_names_to_rephrased_names = {\n",
    "    \"binary_accuracy\": \"accuracy\",\n",
    "    \"auc\": \"AUC\",\n",
    "    \"precision\": \"precision\",\n",
    "    \"recall\": \"recall\",\n",
    "    \"true_positives\": \"TP\",\n",
    "    \"true_negatives\": \"TN\",\n",
    "    \"false_positives\": \"FP\",\n",
    "    \"false_negatives\": \"FN\",\n",
    "}\n",
    "\n",
    "def _rephrase_metrics_dict(metrics_dict: dict[str, float]) -> dict[str, float]:\n",
    "    # Remove sufixes, e.g. auc_3 -> auc\n",
    "    prefix_pattern = re.compile(r\"(?P<metric_prefix>\\w+)_(?P<metric_number>\\d+)\")\n",
    "    # TODO: ugly comperhension\n",
    "    normalized_metrics_dict = {\n",
    "        (prefix_pattern.match(metric).group(\"metric_prefix\") if prefix_pattern.match(metric) else metric): value\n",
    "        for metric, value in metrics_dict.items()\n",
    "    }\n",
    "    return {\n",
    "        (_metric_names_to_rephrased_names[metric] if metric in _metric_names_to_rephrased_names else metric): value\n",
    "        for metric, value in normalized_metrics_dict.items()\n",
    "    }\n",
    "\n",
    "def _build_single_row(*columns, width):\n",
    "    row_as_string = \"|\"\n",
    "    for column in columns:\n",
    "        row_as_string += column.ljust(width, \" \")\n",
    "        row_as_string += \"|\"\n",
    "    row_as_string +=\"\\n\"\n",
    "    return row_as_string\n",
    "\n",
    "def print_metrics_dict_as_table(\n",
    "    metrics_dict: dict[str, float], width: int = 14\n",
    "):\n",
    "    \"\"\"Print metrics dictionay as markdown table.\n",
    "    \n",
    "    Args:\n",
    "        metrics_dict: metrics dictionay (i.e. output of keras evaluate which output type set to dict).\n",
    "        width: width of \n",
    "    \"\"\"\n",
    "    first_column_name = \" metrics\"\n",
    "    second_column_name = \" values\"\n",
    "    table_as_string = \"\"\n",
    "    table_as_string += _build_single_row(first_column_name, second_column_name, width=width)\n",
    "    header_sign = \":---:\"\n",
    "    table_as_string += _build_single_row(header_sign, header_sign, width=width)\n",
    "    rephrased_metric_dict = _rephrase_metrics_dict(metrics_dict)\n",
    "    for metric, value in rephrased_metric_dict.items():\n",
    "        table_as_string += _build_single_row(metric, \"{:.5f}\".format(value), width=width)\n",
    "    print(table_as_string)\n",
    "        "
   ]
  },
  {
   "cell_type": "markdown",
   "id": "f839e49c",
   "metadata": {},
   "source": [
    "## Setup model"
   ]
  },
  {
   "cell_type": "code",
   "execution_count": 4,
   "id": "e5d5c038",
   "metadata": {
    "scrolled": false
   },
   "outputs": [
    {
     "name": "stderr",
     "output_type": "stream",
     "text": [
      "2021-09-25 19:06:10.396494: I tensorflow/stream_executor/platform/default/dso_loader.cc:53] Successfully opened dynamic library libcuda.so.1\n",
      "2021-09-25 19:06:10.476601: I tensorflow/stream_executor/cuda/cuda_gpu_executor.cc:937] successful NUMA node read from SysFS had negative value (-1), but there must be at least one NUMA node, so returning NUMA node zero\n",
      "2021-09-25 19:06:10.476898: I tensorflow/core/common_runtime/gpu/gpu_device.cc:1733] Found device 0 with properties: \n",
      "pciBusID: 0000:01:00.0 name: NVIDIA GeForce RTX 3060 Laptop GPU computeCapability: 8.6\n",
      "coreClock: 1.425GHz coreCount: 30 deviceMemorySize: 5.80GiB deviceMemoryBandwidth: 312.97GiB/s\n",
      "2021-09-25 19:06:10.476913: I tensorflow/stream_executor/platform/default/dso_loader.cc:53] Successfully opened dynamic library libcudart.so.11.0\n",
      "2021-09-25 19:06:10.486393: I tensorflow/stream_executor/platform/default/dso_loader.cc:53] Successfully opened dynamic library libcublas.so.11\n",
      "2021-09-25 19:06:10.486465: I tensorflow/stream_executor/platform/default/dso_loader.cc:53] Successfully opened dynamic library libcublasLt.so.11\n",
      "2021-09-25 19:06:10.491409: I tensorflow/stream_executor/platform/default/dso_loader.cc:53] Successfully opened dynamic library libcufft.so.10\n",
      "2021-09-25 19:06:10.494349: I tensorflow/stream_executor/platform/default/dso_loader.cc:53] Successfully opened dynamic library libcurand.so.10\n",
      "2021-09-25 19:06:10.504197: I tensorflow/stream_executor/platform/default/dso_loader.cc:53] Successfully opened dynamic library libcusolver.so.11\n",
      "2021-09-25 19:06:10.507012: I tensorflow/stream_executor/platform/default/dso_loader.cc:53] Successfully opened dynamic library libcusparse.so.11\n",
      "2021-09-25 19:06:10.507844: I tensorflow/stream_executor/platform/default/dso_loader.cc:53] Successfully opened dynamic library libcudnn.so.8\n",
      "2021-09-25 19:06:10.507941: I tensorflow/stream_executor/cuda/cuda_gpu_executor.cc:937] successful NUMA node read from SysFS had negative value (-1), but there must be at least one NUMA node, so returning NUMA node zero\n",
      "2021-09-25 19:06:10.508247: I tensorflow/stream_executor/cuda/cuda_gpu_executor.cc:937] successful NUMA node read from SysFS had negative value (-1), but there must be at least one NUMA node, so returning NUMA node zero\n",
      "2021-09-25 19:06:10.508712: I tensorflow/core/common_runtime/gpu/gpu_device.cc:1871] Adding visible gpu devices: 0\n",
      "2021-09-25 19:06:10.509082: I tensorflow/core/platform/cpu_feature_guard.cc:142] This TensorFlow binary is optimized with oneAPI Deep Neural Network Library (oneDNN) to use the following CPU instructions in performance-critical operations:  AVX2 FMA\n",
      "To enable them in other operations, rebuild TensorFlow with the appropriate compiler flags.\n",
      "2021-09-25 19:06:10.510382: I tensorflow/stream_executor/cuda/cuda_gpu_executor.cc:937] successful NUMA node read from SysFS had negative value (-1), but there must be at least one NUMA node, so returning NUMA node zero\n",
      "2021-09-25 19:06:10.510668: I tensorflow/core/common_runtime/gpu/gpu_device.cc:1733] Found device 0 with properties: \n",
      "pciBusID: 0000:01:00.0 name: NVIDIA GeForce RTX 3060 Laptop GPU computeCapability: 8.6\n",
      "coreClock: 1.425GHz coreCount: 30 deviceMemorySize: 5.80GiB deviceMemoryBandwidth: 312.97GiB/s\n",
      "2021-09-25 19:06:10.510709: I tensorflow/stream_executor/cuda/cuda_gpu_executor.cc:937] successful NUMA node read from SysFS had negative value (-1), but there must be at least one NUMA node, so returning NUMA node zero\n",
      "2021-09-25 19:06:10.511097: I tensorflow/stream_executor/cuda/cuda_gpu_executor.cc:937] successful NUMA node read from SysFS had negative value (-1), but there must be at least one NUMA node, so returning NUMA node zero\n",
      "2021-09-25 19:06:10.511370: I tensorflow/core/common_runtime/gpu/gpu_device.cc:1871] Adding visible gpu devices: 0\n",
      "2021-09-25 19:06:10.511779: I tensorflow/stream_executor/platform/default/dso_loader.cc:53] Successfully opened dynamic library libcudart.so.11.0\n",
      "2021-09-25 19:06:11.127196: I tensorflow/core/common_runtime/gpu/gpu_device.cc:1258] Device interconnect StreamExecutor with strength 1 edge matrix:\n",
      "2021-09-25 19:06:11.127227: I tensorflow/core/common_runtime/gpu/gpu_device.cc:1264]      0 \n",
      "2021-09-25 19:06:11.127233: I tensorflow/core/common_runtime/gpu/gpu_device.cc:1277] 0:   N \n",
      "2021-09-25 19:06:11.127421: I tensorflow/stream_executor/cuda/cuda_gpu_executor.cc:937] successful NUMA node read from SysFS had negative value (-1), but there must be at least one NUMA node, so returning NUMA node zero\n",
      "2021-09-25 19:06:11.127700: I tensorflow/stream_executor/cuda/cuda_gpu_executor.cc:937] successful NUMA node read from SysFS had negative value (-1), but there must be at least one NUMA node, so returning NUMA node zero\n",
      "2021-09-25 19:06:11.127942: I tensorflow/stream_executor/cuda/cuda_gpu_executor.cc:937] successful NUMA node read from SysFS had negative value (-1), but there must be at least one NUMA node, so returning NUMA node zero\n",
      "2021-09-25 19:06:11.128173: I tensorflow/core/common_runtime/gpu/gpu_device.cc:1418] Created TensorFlow device (/job:localhost/replica:0/task:0/device:GPU:0 with 3769 MB memory) -> physical GPU (device: 0, name: NVIDIA GeForce RTX 3060 Laptop GPU, pci bus id: 0000:01:00.0, compute capability: 8.6)\n"
     ]
    }
   ],
   "source": [
    "evaluated_model = models.load_model(MODEL_PATH, compile=False)"
   ]
  },
  {
   "cell_type": "code",
   "execution_count": 5,
   "id": "19313fb3",
   "metadata": {},
   "outputs": [],
   "source": [
    "METRICS = [\n",
    "        metrics.BinaryAccuracy(),\n",
    "        metrics.AUC(),\n",
    "        metrics.Precision(),\n",
    "        metrics.Recall(),\n",
    "        metrics.TruePositives(),\n",
    "        metrics.TrueNegatives(),\n",
    "        metrics.FalsePositives(),\n",
    "        metrics.FalseNegatives(),\n",
    "    ]"
   ]
  },
  {
   "cell_type": "code",
   "execution_count": 6,
   "id": "9306a814",
   "metadata": {},
   "outputs": [],
   "source": [
    "# Model needs to be compiled again to set targeted metrices\n",
    "optimizer = optimizers.Adam(\n",
    "    learning_rate=1e-3,\n",
    "    epsilon=1e-08\n",
    ")\n",
    "\n",
    "evaluated_model.compile(\n",
    "    optimizer=optimizer,\n",
    "    loss=\"binary_crossentropy\",\n",
    "    metrics=METRICS\n",
    ")"
   ]
  },
  {
   "cell_type": "markdown",
   "id": "48d87817",
   "metadata": {},
   "source": [
    "## Evaluate whole dataset"
   ]
  },
  {
   "cell_type": "code",
   "execution_count": 8,
   "id": "8d2c4ebb",
   "metadata": {},
   "outputs": [
    {
     "name": "stdout",
     "output_type": "stream",
     "text": [
      "Found 468664 files belonging to 2 classes.\n"
     ]
    }
   ],
   "source": [
    "evaluation_dataset = tf.keras.preprocessing.image_dataset_from_directory(\n",
    "    DATASET_PATH.joinpath(\"test\"),\n",
    "    batch_size=BATCH_SIZE,\n",
    "    image_size=IMAGE_SIZE,\n",
    "    label_mode=\"binary\",\n",
    "    class_names=[\"fakes\", \"reals\"],\n",
    ")"
   ]
  },
  {
   "cell_type": "code",
   "execution_count": 9,
   "id": "d77fbd70",
   "metadata": {
    "scrolled": true
   },
   "outputs": [
    {
     "name": "stderr",
     "output_type": "stream",
     "text": [
      "2021-09-25 18:17:25.134359: I tensorflow/compiler/mlir/mlir_graph_optimization_pass.cc:176] None of the MLIR Optimization Passes are enabled (registered 2)\n",
      "2021-09-25 18:17:25.168160: I tensorflow/core/platform/profile_utils/cpu_utils.cc:114] CPU Frequency: 3193960000 Hz\n",
      "2021-09-25 18:17:25.565230: I tensorflow/stream_executor/platform/default/dso_loader.cc:53] Successfully opened dynamic library libcudnn.so.8\n",
      "2021-09-25 18:17:26.261086: I tensorflow/stream_executor/cuda/cuda_dnn.cc:359] Loaded cuDNN version 8100\n",
      "2021-09-25 18:17:27.323722: I tensorflow/stream_executor/platform/default/dso_loader.cc:53] Successfully opened dynamic library libcublas.so.11\n"
     ]
    },
    {
     "name": "stdout",
     "output_type": "stream",
     "text": [
      "    3/14646 [..............................] - ETA: 7:46 - loss: 0.0349 - binary_accuracy: 0.9896 - auc: 1.0000 - precision: 0.8889 - recall: 1.0000 - true_positives: 8.0000 - true_negatives: 87.0000 - false_positives: 1.0000 - false_negatives: 0.0000e+00        "
     ]
    },
    {
     "name": "stderr",
     "output_type": "stream",
     "text": [
      "2021-09-25 18:17:27.797420: I tensorflow/stream_executor/platform/default/dso_loader.cc:53] Successfully opened dynamic library libcublasLt.so.11\n",
      "2021-09-25 18:17:27.894545: I tensorflow/stream_executor/cuda/cuda_blas.cc:1838] TensorFloat-32 will be used for the matrix multiplication. This will only be logged once.\n"
     ]
    },
    {
     "name": "stdout",
     "output_type": "stream",
     "text": [
      "14646/14646 [==============================] - 505s 34ms/step - loss: 0.1078 - binary_accuracy: 0.9670 - auc: 0.9719 - precision: 0.8469 - recall: 0.8118 - true_positives: 37445.0000 - true_negatives: 415771.0000 - false_positives: 6768.0000 - false_negatives: 8680.0000\n"
     ]
    }
   ],
   "source": [
    "metrics_dict = evaluated_model.evaluate(evaluation_dataset, return_dict=True)"
   ]
  },
  {
   "cell_type": "code",
   "execution_count": 16,
   "id": "1ec9ac9e",
   "metadata": {},
   "outputs": [
    {
     "name": "stdout",
     "output_type": "stream",
     "text": [
      "| metrics      | values       |\n",
      "|:---:         |:---:         |\n",
      "|loss          |0.10779       |\n",
      "|accuracy      |0.96704       |\n",
      "|AUC           |0.97193       |\n",
      "|precision     |0.84692       |\n",
      "|recall        |0.81182       |\n",
      "|TP            |37445.00000   |\n",
      "|TN            |415771.00000  |\n",
      "|FP            |6768.00000    |\n",
      "|FN            |8680.00000    |\n",
      "\n"
     ]
    }
   ],
   "source": [
    "print_metrics_dict_as_table(metrics_dict)"
   ]
  },
  {
   "cell_type": "code",
   "execution_count": 11,
   "id": "612757b1",
   "metadata": {},
   "outputs": [
    {
     "data": {
      "text/plain": [
       "{'loss': 0.15628106892108917,\n",
       " 'binary_accuracy': 0.9542379975318909,\n",
       " 'auc': 0.9427394866943359,\n",
       " 'precision': 0.7974686622619629,\n",
       " 'recall': 0.7171598672866821,\n",
       " 'true_positives': 33079.0,\n",
       " 'true_negatives': 414138.0,\n",
       " 'false_positives': 8401.0,\n",
       " 'false_negatives': 13046.0}"
      ]
     },
     "execution_count": 11,
     "metadata": {},
     "output_type": "execute_result"
    }
   ],
   "source": [
    "metrics_dict"
   ]
  },
  {
   "cell_type": "code",
   "execution_count": 12,
   "id": "8d872f72",
   "metadata": {
    "scrolled": true
   },
   "outputs": [
    {
     "data": {
      "text/plain": [
       "{'loss': 0.15628106892108917,\n",
       " 'binary_accuracy': 0.9542379975318909,\n",
       " 'auc': 0.9427394866943359,\n",
       " 'precision': 0.7974686622619629,\n",
       " 'recall': 0.7171598672866821,\n",
       " 'true_positives': 33079.0,\n",
       " 'true_negatives': 414138.0,\n",
       " 'false_positives': 8401.0,\n",
       " 'false_negatives': 13046.0}"
      ]
     },
     "execution_count": 12,
     "metadata": {},
     "output_type": "execute_result"
    }
   ],
   "source": [
    "metrics_dict"
   ]
  },
  {
   "cell_type": "code",
   "execution_count": 13,
   "id": "69bb4f89",
   "metadata": {},
   "outputs": [],
   "source": [
    "# Fajnie było widać że jedyne co się zmieniło to niektóre true positives przeszły na false negatives"
   ]
  },
  {
   "cell_type": "markdown",
   "id": "46f54d91",
   "metadata": {},
   "source": [
    "## Evaluate modifications separately"
   ]
  },
  {
   "cell_type": "code",
   "execution_count": 35,
   "id": "c3607e04",
   "metadata": {},
   "outputs": [],
   "source": [
    "modifications_dir = DATASET_PATH / \"test\" / \"reals\""
   ]
  },
  {
   "cell_type": "code",
   "execution_count": 47,
   "id": "7f26bbbb",
   "metadata": {},
   "outputs": [
    {
     "name": "stdout",
     "output_type": "stream",
     "text": [
      "Found 5766 files belonging to 1 classes.\n",
      "181/181 [==============================] - 4s 22ms/step - loss: 0.0913 - binary_accuracy: 0.9591 - auc: 0.0000e+00 - precision: 1.0000 - recall: 0.9591 - true_positives: 5530.0000 - true_negatives: 0.0000e+00 - false_positives: 0.0000e+00 - false_negatives: 236.0000\n",
      "clahe_8_8_2.0\n",
      "| metrics      | values       |\n",
      "|:---:         |:---:         |\n",
      "|loss          |0.09134       |\n",
      "|accuracy      |0.95907       |\n",
      "|AUC           |0.00000       |\n",
      "|precision     |1.00000       |\n",
      "|recall        |0.95907       |\n",
      "|TP            |5530.00000    |\n",
      "|TN            |0.00000       |\n",
      "|FP            |0.00000       |\n",
      "|FN            |236.00000     |\n",
      "\n",
      "Found 2883 files belonging to 1 classes.\n",
      "91/91 [==============================] - 2s 23ms/step - loss: 0.4034 - binary_accuracy: 0.8363 - auc: 0.0000e+00 - precision: 1.0000 - recall: 0.8363 - true_positives: 2411.0000 - true_negatives: 0.0000e+00 - false_positives: 0.0000e+00 - false_negatives: 472.0000\n",
      "gamma_correction_0.75\n",
      "| metrics      | values       |\n",
      "|:---:         |:---:         |\n",
      "|loss          |0.40343       |\n",
      "|accuracy      |0.83628       |\n",
      "|AUC           |0.00000       |\n",
      "|precision     |1.00000       |\n",
      "|recall        |0.83628       |\n",
      "|TP            |2411.00000    |\n",
      "|TN            |0.00000       |\n",
      "|FP            |0.00000       |\n",
      "|FN            |472.00000     |\n",
      "\n",
      "Found 2883 files belonging to 1 classes.\n",
      "91/91 [==============================] - 2s 22ms/step - loss: 0.8845 - binary_accuracy: 0.6726 - auc: 0.0000e+00 - precision: 1.0000 - recall: 0.6726 - true_positives: 1939.0000 - true_negatives: 0.0000e+00 - false_positives: 0.0000e+00 - false_negatives: 944.0000\n",
      "gamma_correction_1.25\n",
      "| metrics      | values       |\n",
      "|:---:         |:---:         |\n",
      "|loss          |0.88448       |\n",
      "|accuracy      |0.67256       |\n",
      "|AUC           |0.00000       |\n",
      "|precision     |1.00000       |\n",
      "|recall        |0.67256       |\n",
      "|TP            |1939.00000    |\n",
      "|TN            |0.00000       |\n",
      "|FP            |0.00000       |\n",
      "|FN            |944.00000     |\n",
      "\n",
      "Found 5765 files belonging to 1 classes.\n",
      "181/181 [==============================] - 5s 25ms/step - loss: 0.1055 - binary_accuracy: 0.9572 - auc: 0.0000e+00 - precision: 1.0000 - recall: 0.9572 - true_positives: 5518.0000 - true_negatives: 0.0000e+00 - false_positives: 0.0000e+00 - false_negatives: 247.0000\n",
      "histogram_equalization\n",
      "| metrics      | values       |\n",
      "|:---:         |:---:         |\n",
      "|loss          |0.10551       |\n",
      "|accuracy      |0.95716       |\n",
      "|AUC           |0.00000       |\n",
      "|precision     |1.00000       |\n",
      "|recall        |0.95716       |\n",
      "|TP            |5518.00000    |\n",
      "|TN            |0.00000       |\n",
      "|FP            |0.00000       |\n",
      "|FN            |247.00000     |\n",
      "\n",
      "Found 23063 files belonging to 1 classes.\n",
      "721/721 [==============================] - 16s 23ms/step - loss: 0.7753 - binary_accuracy: 0.7118 - auc: 0.0000e+00 - precision: 1.0000 - recall: 0.7118 - true_positives: 16417.0000 - true_negatives: 0.0000e+00 - false_positives: 0.0000e+00 - false_negatives: 6646.0000\n",
      "identity\n",
      "| metrics      | values       |\n",
      "|:---:         |:---:         |\n",
      "|loss          |0.77531       |\n",
      "|accuracy      |0.71183       |\n",
      "|AUC           |0.00000       |\n",
      "|precision     |1.00000       |\n",
      "|recall        |0.71183       |\n",
      "|TP            |16417.00000   |\n",
      "|TN            |0.00000       |\n",
      "|FP            |0.00000       |\n",
      "|FN            |6646.00000    |\n",
      "\n",
      "Found 5765 files belonging to 1 classes.\n",
      "181/181 [==============================] - 4s 21ms/step - loss: 0.0594 - binary_accuracy: 0.9766 - auc: 0.0000e+00 - precision: 1.0000 - recall: 0.9766 - true_positives: 5630.0000 - true_negatives: 0.0000e+00 - false_positives: 0.0000e+00 - false_negatives: 135.0000\n",
      "red_eyes_effect_50\n",
      "| metrics      | values       |\n",
      "|:---:         |:---:         |\n",
      "|loss          |0.05940       |\n",
      "|accuracy      |0.97658       |\n",
      "|AUC           |0.00000       |\n",
      "|precision     |1.00000       |\n",
      "|recall        |0.97658       |\n",
      "|TP            |5630.00000    |\n",
      "|TN            |0.00000       |\n",
      "|FP            |0.00000       |\n",
      "|FN            |135.00000     |\n",
      "\n"
     ]
    }
   ],
   "source": [
    "for modification_dir in modifications_dir.iterdir():\n",
    "    no_mod_images = len(list(modification_dir.iterdir()))\n",
    "    # Copy selected modification dir into temp dirsince keras method\n",
    "    # image_dataset_from_directory requires images to lay in subdirectory\n",
    "    with tempfile.TemporaryDirectory() as tmp_dir_path:\n",
    "        shutil.copytree(\n",
    "            modification_dir, pathlib.Path(tmp_dir_path).joinpath(modification_dir.name)\n",
    "        )\n",
    "        modifications_ds =  tf.keras.preprocessing.image_dataset_from_directory(\n",
    "            tmp_dir_path,\n",
    "            labels=list(1 for _ in range(no_mod_images)),\n",
    "            batch_size=BATCH_SIZE,\n",
    "            image_size=IMAGE_SIZE,\n",
    "        )\n",
    "        metrics_dict = evaluated_model.evaluate(modifications_ds, return_dict=True)\n",
    "        print(modification_dir.name)\n",
    "        print_metrics_dict_as_table(metrics_dict)"
   ]
  },
  {
   "cell_type": "code",
   "execution_count": null,
   "id": "a2cfa73b",
   "metadata": {},
   "outputs": [],
   "source": []
  }
 ],
 "metadata": {
  "kernelspec": {
   "display_name": "Python 3 (ipykernel)",
   "language": "python",
   "name": "python3"
  },
  "language_info": {
   "codemirror_mode": {
    "name": "ipython",
    "version": 3
   },
   "file_extension": ".py",
   "mimetype": "text/x-python",
   "name": "python",
   "nbconvert_exporter": "python",
   "pygments_lexer": "ipython3",
   "version": "3.9.6"
  }
 },
 "nbformat": 4,
 "nbformat_minor": 5
}
