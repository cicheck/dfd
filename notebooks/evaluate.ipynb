{
 "cells": [
  {
   "cell_type": "markdown",
   "id": "c8dac670",
   "metadata": {},
   "source": [
    "# Evaluate model"
   ]
  },
  {
   "cell_type": "markdown",
   "id": "6b53af78",
   "metadata": {},
   "source": [
    "## Imports"
   ]
  },
  {
   "cell_type": "code",
   "execution_count": 1,
   "id": "eeebb18b",
   "metadata": {},
   "outputs": [
    {
     "name": "stderr",
     "output_type": "stream",
     "text": [
      "2021-09-19 14:06:05.010708: I tensorflow/stream_executor/platform/default/dso_loader.cc:53] Successfully opened dynamic library libcudart.so.11.0\n"
     ]
    }
   ],
   "source": [
    "import pathlib\n",
    "\n",
    "import tensorflow as tf\n",
    "\n",
    "from tensorflow.keras import models\n",
    "from tensorflow.keras import metrics\n",
    "from tensorflow.keras import optimizers\n",
    "from tensorflow.keras.preprocessing import image"
   ]
  },
  {
   "cell_type": "markdown",
   "id": "ce8e2694",
   "metadata": {},
   "source": [
    "## Config"
   ]
  },
  {
   "cell_type": "code",
   "execution_count": 2,
   "id": "3e98e469",
   "metadata": {},
   "outputs": [],
   "source": [
    "MODEL_PATH = pathlib.Path(\n",
    "    \"/media/cicheck/Extreme Pro/models/base/best_base_meso_net_05_0.06.h5\"\n",
    ")\n",
    "DATASET_PATH = pathlib.Path(\"/media/cicheck/Extreme Pro/datasets/modified/mod_1\")\n",
    "\n",
    "IMAGE_SIZE = (256, 256)\n",
    "BATCH_SIZE = 32"
   ]
  },
  {
   "cell_type": "markdown",
   "id": "f839e49c",
   "metadata": {},
   "source": [
    "## Setup model"
   ]
  },
  {
   "cell_type": "code",
   "execution_count": 3,
   "id": "e5d5c038",
   "metadata": {
    "scrolled": false
   },
   "outputs": [
    {
     "name": "stderr",
     "output_type": "stream",
     "text": [
      "2021-09-19 14:06:14.416552: I tensorflow/stream_executor/platform/default/dso_loader.cc:53] Successfully opened dynamic library libcuda.so.1\n",
      "2021-09-19 14:06:14.458172: I tensorflow/stream_executor/cuda/cuda_gpu_executor.cc:937] successful NUMA node read from SysFS had negative value (-1), but there must be at least one NUMA node, so returning NUMA node zero\n",
      "2021-09-19 14:06:14.458712: I tensorflow/core/common_runtime/gpu/gpu_device.cc:1733] Found device 0 with properties: \n",
      "pciBusID: 0000:01:00.0 name: NVIDIA GeForce RTX 3060 Laptop GPU computeCapability: 8.6\n",
      "coreClock: 1.425GHz coreCount: 30 deviceMemorySize: 5.80GiB deviceMemoryBandwidth: 312.97GiB/s\n",
      "2021-09-19 14:06:14.458753: I tensorflow/stream_executor/platform/default/dso_loader.cc:53] Successfully opened dynamic library libcudart.so.11.0\n",
      "2021-09-19 14:06:14.461384: I tensorflow/stream_executor/platform/default/dso_loader.cc:53] Successfully opened dynamic library libcublas.so.11\n",
      "2021-09-19 14:06:14.461476: I tensorflow/stream_executor/platform/default/dso_loader.cc:53] Successfully opened dynamic library libcublasLt.so.11\n",
      "2021-09-19 14:06:14.462133: I tensorflow/stream_executor/platform/default/dso_loader.cc:53] Successfully opened dynamic library libcufft.so.10\n",
      "2021-09-19 14:06:14.462379: I tensorflow/stream_executor/platform/default/dso_loader.cc:53] Successfully opened dynamic library libcurand.so.10\n",
      "2021-09-19 14:06:14.463958: I tensorflow/stream_executor/platform/default/dso_loader.cc:53] Successfully opened dynamic library libcusolver.so.11\n",
      "2021-09-19 14:06:14.464455: I tensorflow/stream_executor/platform/default/dso_loader.cc:53] Successfully opened dynamic library libcusparse.so.11\n",
      "2021-09-19 14:06:14.464547: I tensorflow/stream_executor/platform/default/dso_loader.cc:53] Successfully opened dynamic library libcudnn.so.8\n",
      "2021-09-19 14:06:14.464688: I tensorflow/stream_executor/cuda/cuda_gpu_executor.cc:937] successful NUMA node read from SysFS had negative value (-1), but there must be at least one NUMA node, so returning NUMA node zero\n",
      "2021-09-19 14:06:14.465006: I tensorflow/stream_executor/cuda/cuda_gpu_executor.cc:937] successful NUMA node read from SysFS had negative value (-1), but there must be at least one NUMA node, so returning NUMA node zero\n",
      "2021-09-19 14:06:14.465229: I tensorflow/core/common_runtime/gpu/gpu_device.cc:1871] Adding visible gpu devices: 0\n",
      "2021-09-19 14:06:14.465574: I tensorflow/core/platform/cpu_feature_guard.cc:142] This TensorFlow binary is optimized with oneAPI Deep Neural Network Library (oneDNN) to use the following CPU instructions in performance-critical operations:  AVX2 FMA\n",
      "To enable them in other operations, rebuild TensorFlow with the appropriate compiler flags.\n",
      "2021-09-19 14:06:14.466667: I tensorflow/stream_executor/cuda/cuda_gpu_executor.cc:937] successful NUMA node read from SysFS had negative value (-1), but there must be at least one NUMA node, so returning NUMA node zero\n",
      "2021-09-19 14:06:14.466980: I tensorflow/core/common_runtime/gpu/gpu_device.cc:1733] Found device 0 with properties: \n",
      "pciBusID: 0000:01:00.0 name: NVIDIA GeForce RTX 3060 Laptop GPU computeCapability: 8.6\n",
      "coreClock: 1.425GHz coreCount: 30 deviceMemorySize: 5.80GiB deviceMemoryBandwidth: 312.97GiB/s\n",
      "2021-09-19 14:06:14.467075: I tensorflow/stream_executor/cuda/cuda_gpu_executor.cc:937] successful NUMA node read from SysFS had negative value (-1), but there must be at least one NUMA node, so returning NUMA node zero\n",
      "2021-09-19 14:06:14.467315: I tensorflow/stream_executor/cuda/cuda_gpu_executor.cc:937] successful NUMA node read from SysFS had negative value (-1), but there must be at least one NUMA node, so returning NUMA node zero\n",
      "2021-09-19 14:06:14.467544: I tensorflow/core/common_runtime/gpu/gpu_device.cc:1871] Adding visible gpu devices: 0\n",
      "2021-09-19 14:06:14.467582: I tensorflow/stream_executor/platform/default/dso_loader.cc:53] Successfully opened dynamic library libcudart.so.11.0\n",
      "2021-09-19 14:06:14.821585: I tensorflow/core/common_runtime/gpu/gpu_device.cc:1258] Device interconnect StreamExecutor with strength 1 edge matrix:\n",
      "2021-09-19 14:06:14.821613: I tensorflow/core/common_runtime/gpu/gpu_device.cc:1264]      0 \n",
      "2021-09-19 14:06:14.821619: I tensorflow/core/common_runtime/gpu/gpu_device.cc:1277] 0:   N \n",
      "2021-09-19 14:06:14.821828: I tensorflow/stream_executor/cuda/cuda_gpu_executor.cc:937] successful NUMA node read from SysFS had negative value (-1), but there must be at least one NUMA node, so returning NUMA node zero\n",
      "2021-09-19 14:06:14.822102: I tensorflow/stream_executor/cuda/cuda_gpu_executor.cc:937] successful NUMA node read from SysFS had negative value (-1), but there must be at least one NUMA node, so returning NUMA node zero\n",
      "2021-09-19 14:06:14.822418: I tensorflow/stream_executor/cuda/cuda_gpu_executor.cc:937] successful NUMA node read from SysFS had negative value (-1), but there must be at least one NUMA node, so returning NUMA node zero\n",
      "2021-09-19 14:06:14.822653: I tensorflow/core/common_runtime/gpu/gpu_device.cc:1418] Created TensorFlow device (/job:localhost/replica:0/task:0/device:GPU:0 with 3647 MB memory) -> physical GPU (device: 0, name: NVIDIA GeForce RTX 3060 Laptop GPU, pci bus id: 0000:01:00.0, compute capability: 8.6)\n"
     ]
    }
   ],
   "source": [
    "evaluated_model = models.load_model(MODEL_PATH, compile=False)"
   ]
  },
  {
   "cell_type": "code",
   "execution_count": 4,
   "id": "19313fb3",
   "metadata": {},
   "outputs": [],
   "source": [
    "METRICS = [\n",
    "        metrics.BinaryAccuracy(),\n",
    "        metrics.AUC(),\n",
    "        metrics.Precision(),\n",
    "        metrics.Recall(),\n",
    "        metrics.TruePositives(),\n",
    "        metrics.TrueNegatives(),\n",
    "        metrics.FalsePositives(),\n",
    "        metrics.FalseNegatives(),\n",
    "    ]"
   ]
  },
  {
   "cell_type": "code",
   "execution_count": 5,
   "id": "9306a814",
   "metadata": {},
   "outputs": [],
   "source": [
    "# Model needs to be compiled again to set targeted metrices\n",
    "optimizer = optimizers.Adam(\n",
    "    learning_rate=1e-3,\n",
    "    epsilon=1e-08\n",
    ")\n",
    "\n",
    "evaluated_model.compile(\n",
    "    optimizer=optimizer,\n",
    "    loss=\"binary_crossentropy\",\n",
    "    metrics=METRICS\n",
    ")"
   ]
  },
  {
   "cell_type": "markdown",
   "id": "48d87817",
   "metadata": {},
   "source": [
    "## Load dataset"
   ]
  },
  {
   "cell_type": "code",
   "execution_count": 6,
   "id": "8d2c4ebb",
   "metadata": {},
   "outputs": [
    {
     "name": "stdout",
     "output_type": "stream",
     "text": [
      "Found 2342158 files belonging to 2 classes.\n"
     ]
    }
   ],
   "source": [
    "evaluation_dataset = tf.keras.preprocessing.image_dataset_from_directory(\n",
    "    DATASET_PATH,\n",
    "    batch_size=BATCH_SIZE,\n",
    "    image_size=IMAGE_SIZE,\n",
    "    label_mode=\"binary\",\n",
    "    class_names=[\"fakes\", \"reals\"],\n",
    "#     validation_split=0.0001,\n",
    "#     subset=\"validation\",\n",
    "#     seed=0,\n",
    ")"
   ]
  },
  {
   "cell_type": "markdown",
   "id": "96b34c77",
   "metadata": {},
   "source": [
    "## Evaluate whole dataset"
   ]
  },
  {
   "cell_type": "code",
   "execution_count": 7,
   "id": "d77fbd70",
   "metadata": {
    "scrolled": true
   },
   "outputs": [
    {
     "name": "stderr",
     "output_type": "stream",
     "text": [
      "2021-09-19 14:06:58.378705: I tensorflow/compiler/mlir/mlir_graph_optimization_pass.cc:176] None of the MLIR Optimization Passes are enabled (registered 2)\n",
      "2021-09-19 14:06:58.412811: I tensorflow/core/platform/profile_utils/cpu_utils.cc:114] CPU Frequency: 3193940000 Hz\n",
      "2021-09-19 14:06:59.041719: I tensorflow/stream_executor/platform/default/dso_loader.cc:53] Successfully opened dynamic library libcudnn.so.8\n",
      "2021-09-19 14:06:59.755829: I tensorflow/stream_executor/cuda/cuda_dnn.cc:359] Loaded cuDNN version 8100\n",
      "2021-09-19 14:07:00.958628: I tensorflow/stream_executor/platform/default/dso_loader.cc:53] Successfully opened dynamic library libcublas.so.11\n"
     ]
    },
    {
     "name": "stdout",
     "output_type": "stream",
     "text": [
      "    2/73193 [..............................] - ETA: 1:06:28 - loss: 0.0708 - binary_accuracy: 0.9844 - auc: 1.0000 - precision: 0.8571 - recall: 1.0000 - true_positives: 6.0000 - true_negatives: 57.0000 - false_positives: 1.0000 - false_negatives: 0.0000e+00     "
     ]
    },
    {
     "name": "stderr",
     "output_type": "stream",
     "text": [
      "2021-09-19 14:07:01.706216: I tensorflow/stream_executor/platform/default/dso_loader.cc:53] Successfully opened dynamic library libcublasLt.so.11\n",
      "2021-09-19 14:07:01.781567: I tensorflow/stream_executor/cuda/cuda_blas.cc:1838] TensorFloat-32 will be used for the matrix multiplication. This will only be logged once.\n"
     ]
    },
    {
     "name": "stdout",
     "output_type": "stream",
     "text": [
      "73193/73193 [==============================] - 3309s 45ms/step - loss: 0.0941 - binary_accuracy: 0.9756 - auc: 0.9758 - precision: 0.8635 - recall: 0.8865 - true_positives: 199802.0000 - true_negatives: 2085174.0000 - false_positives: 31594.0000 - false_negatives: 25588.0000\n"
     ]
    }
   ],
   "source": [
    "metrics_dict = evaluated_model.evaluate(evaluation_dataset, return_dict=True)"
   ]
  },
  {
   "cell_type": "code",
   "execution_count": 8,
   "id": "612757b1",
   "metadata": {},
   "outputs": [
    {
     "data": {
      "text/plain": [
       "{'loss': 0.09409387409687042,\n",
       " 'binary_accuracy': 0.9755857586860657,\n",
       " 'auc': 0.9757694602012634,\n",
       " 'precision': 0.8634635210037231,\n",
       " 'recall': 0.8864723443984985,\n",
       " 'true_positives': 199802.0,\n",
       " 'true_negatives': 2085174.0,\n",
       " 'false_positives': 31594.0,\n",
       " 'false_negatives': 25588.0}"
      ]
     },
     "execution_count": 8,
     "metadata": {},
     "output_type": "execute_result"
    }
   ],
   "source": [
    "metrics_dict"
   ]
  },
  {
   "cell_type": "code",
   "execution_count": 30,
   "id": "c846dc0d",
   "metadata": {},
   "outputs": [
    {
     "name": "stdout",
     "output_type": "stream",
     "text": [
      "/media/cicheck/Extreme Pro/datasets/modified/mod_1/reals/clahe_8_8_2.0\n"
     ]
    }
   ],
   "source": [
    "for x in DATASET_PATH.joinpath(\"reals\").iterdir():\n",
    "    print(x)\n",
    "    break"
   ]
  },
  {
   "cell_type": "code",
   "execution_count": null,
   "id": "a27e739d",
   "metadata": {},
   "outputs": [],
   "source": [
    "CLASS_NAMES_TO_LABELS = "
   ]
  },
  {
   "cell_type": "code",
   "execution_count": 41,
   "id": "8e253a8a",
   "metadata": {},
   "outputs": [
    {
     "data": {
      "text/plain": [
       "{'loss': 0.06342955678701401,\n",
       " 'binary_accuracy': 0.9807707071304321,\n",
       " 'auc_1': 0.9958259463310242,\n",
       " 'precision_1': 0.8702718019485474,\n",
       " 'recall_1': 0.9403522610664368,\n",
       " 'true_positives_1': 211946.0,\n",
       " 'true_negatives_1': 2085174.0,\n",
       " 'false_positives_1': 31594.0,\n",
       " 'false_negatives_1': 13444.0}"
      ]
     },
     "execution_count": 41,
     "metadata": {},
     "output_type": "execute_result"
    }
   ],
   "source": [
    "metrics_dict = tf.keras.preprocessing.image_dataset_from_directory(\n",
    "    DATASET_PATH.joinpath(\"reals\"),\n",
    "    batch_size=BATCH_SIZE,\n",
    "    image_size=IMAGE_SIZE,\n",
    "    class_names=[\"fakes\", \"reals\"],\n",
    ")"
   ]
  },
  {
   "cell_type": "markdown",
   "id": "46f54d91",
   "metadata": {},
   "source": [
    "## Evaluate single modification"
   ]
  },
  {
   "cell_type": "code",
   "execution_count": null,
   "id": "495495d6",
   "metadata": {},
   "outputs": [],
   "source": [
    "modifications_ds = "
   ]
  },
  {
   "cell_type": "code",
   "execution_count": 67,
   "id": "0d0d0a44",
   "metadata": {
    "scrolled": true
   },
   "outputs": [
    {
     "name": "stdout",
     "output_type": "stream",
     "text": [
      "(256, 256, 3)\n",
      "tf.Tensor(\n",
      "[[[194.99023  201.99023  215.99023 ]\n",
      "  [194.98042  201.98042  215.96872 ]\n",
      "  [193.96875  200.96875  212.97266 ]\n",
      "  ...\n",
      "  [223.97069  229.8828   248.86327 ]\n",
      "  [229.9629   235.9629   254.9629  ]\n",
      "  [224.01172  238.99414  255.      ]]\n",
      "\n",
      " [[189.97263  196.97263  210.97263 ]\n",
      "  [187.93549  194.93549  208.93549 ]\n",
      "  [182.94336  189.94336  203.94336 ]\n",
      "  ...\n",
      "  [223.96094  229.87305  248.85352 ]\n",
      "  [228.9707   234.9707   253.9707  ]\n",
      "  [224.00977  238.99219  254.99805 ]]\n",
      "\n",
      " [[185.89456  192.8848   206.9141  ]\n",
      "  [181.88148  188.87172  202.90114 ]\n",
      "  [175.01944  182.00967  196.0585  ]\n",
      "  ...\n",
      "  [223.92178  229.8339   248.81436 ]\n",
      "  [228.92194  234.92194  253.92194 ]\n",
      "  [223.96094  238.94336  254.94922 ]]\n",
      "\n",
      " ...\n",
      "\n",
      " [[ 45.9883    43.9883    39.9883  ]\n",
      "  [ 45.        43.        39.      ]\n",
      "  [ 45.        43.        39.      ]\n",
      "  ...\n",
      "  [ 55.00019   55.00019   55.00019 ]\n",
      "  [ 54.015568  54.015568  54.015568]\n",
      "  [ 54.009766  54.009766  54.009766]]\n",
      "\n",
      " [[ 45.003906  45.98633   38.009766]\n",
      "  [ 44.011684  44.97663   37.02337 ]\n",
      "  [ 45.        43.        39.      ]\n",
      "  ...\n",
      "  [ 54.015568  54.015568  54.015568]\n",
      "  [ 54.000034  54.000034  54.000034]\n",
      "  [ 54.        54.        54.      ]]\n",
      "\n",
      " [[ 44.998047  45.998047  37.998047]\n",
      "  [ 44.00586   44.98828   37.01172 ]\n",
      "  [ 45.        43.        39.      ]\n",
      "  ...\n",
      "  [ 54.009766  54.009766  54.009766]\n",
      "  [ 53.0078    53.0078    53.0078  ]\n",
      "  [ 53.001953  53.001953  53.001953]]], shape=(256, 256, 3), dtype=float32)\n",
      "XDDDDDD\n",
      "tf.Tensor([0.], shape=(1,), dtype=float32)\n"
     ]
    }
   ],
   "source": [
    "for x, y in evaluation_dataset:\n",
    "    print(x[0].shape)\n",
    "    print(x[0])\n",
    "    print(\"XDDDDDD\")\n",
    "    print(y[0])\n",
    "    break"
   ]
  },
  {
   "cell_type": "code",
   "execution_count": 19,
   "id": "64aef640",
   "metadata": {
    "scrolled": true
   },
   "outputs": [
    {
     "data": {
      "text/plain": [
       "<tf.Tensor 'args_0:0' shape=(None, 256, 256, 3) dtype=float32>"
      ]
     },
     "execution_count": 19,
     "metadata": {},
     "output_type": "execute_result"
    }
   ],
   "source": [
    "z"
   ]
  },
  {
   "cell_type": "code",
   "execution_count": null,
   "id": "5a1345b5",
   "metadata": {},
   "outputs": [],
   "source": [
    "ehh = evaluation_dataset.filter(foo)"
   ]
  },
  {
   "cell_type": "code",
   "execution_count": 28,
   "id": "90527ff9",
   "metadata": {},
   "outputs": [],
   "source": [
    "def foo(x, y):\n",
    "    return y == 0\n",
    "\n",
    "#ehh = evaluation_dataset.filter(lambda x,y: tf.reduce_all(tf.not_equal(y, [1]))).batch(32)\n",
    "ehh = evaluation_dataset.unbatch().filter(lambda x,y: tf.reduce_all(tf.equal(y, [1]))).batch(32)"
   ]
  },
  {
   "cell_type": "code",
   "execution_count": 29,
   "id": "39cdbd4c",
   "metadata": {},
   "outputs": [
    {
     "name": "stdout",
     "output_type": "stream",
     "text": [
      "(22, 256, 256, 3)\n",
      "(22, 1)\n"
     ]
    }
   ],
   "source": [
    "for x, y in ehh:\n",
    "    print(x.shape)\n",
    "    print(y.shape)"
   ]
  },
  {
   "cell_type": "code",
   "execution_count": 69,
   "id": "28b01685",
   "metadata": {},
   "outputs": [],
   "source": [
    "image_generator = image.ImageDataGenerator()"
   ]
  },
  {
   "cell_type": "code",
   "execution_count": null,
   "id": "d8629d1c",
   "metadata": {},
   "outputs": [],
   "source": [
    "image_generator.flow_from_directory()"
   ]
  },
  {
   "cell_type": "code",
   "execution_count": null,
   "id": "495ed283",
   "metadata": {},
   "outputs": [],
   "source": [
    "image_generator = next(img_gen.flow_from_directory(DATASET_PATH.joinpath(\"reals\")))"
   ]
  },
  {
   "cell_type": "code",
   "execution_count": null,
   "id": "a2cfa73b",
   "metadata": {},
   "outputs": [],
   "source": []
  }
 ],
 "metadata": {
  "kernelspec": {
   "display_name": "Python 3 (ipykernel)",
   "language": "python",
   "name": "python3"
  },
  "language_info": {
   "codemirror_mode": {
    "name": "ipython",
    "version": 3
   },
   "file_extension": ".py",
   "mimetype": "text/x-python",
   "name": "python",
   "nbconvert_exporter": "python",
   "pygments_lexer": "ipython3",
   "version": "3.9.6"
  }
 },
 "nbformat": 4,
 "nbformat_minor": 5
}
