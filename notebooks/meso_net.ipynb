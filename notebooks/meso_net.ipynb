{
 "cells": [
  {
   "cell_type": "markdown",
   "id": "4c586764",
   "metadata": {},
   "source": [
    "# MesoNet"
   ]
  },
  {
   "cell_type": "markdown",
   "id": "8ced3ea7",
   "metadata": {},
   "source": [
    "## Config"
   ]
  },
  {
   "cell_type": "code",
   "execution_count": 1,
   "id": "c488210b",
   "metadata": {},
   "outputs": [],
   "source": [
    "# Load the TensorBoard notebook extension\n",
    "%load_ext tensorboard"
   ]
  },
  {
   "cell_type": "markdown",
   "id": "15dae4f1",
   "metadata": {},
   "source": [
    "## Imports"
   ]
  },
  {
   "cell_type": "code",
   "execution_count": 2,
   "id": "1f94fdd5",
   "metadata": {},
   "outputs": [],
   "source": [
    "from datetime import datetime\n",
    "import pathlib\n",
    "import typing as t\n",
    "\n",
    "import tensorflow as tf\n",
    "from tensorflow import keras\n",
    "from tensorflow.keras import applications\n",
    "from tensorflow.keras import layers\n",
    "from tensorflow.keras import optimizers\n",
    "from tensorflow.keras.applications import xception\n",
    "from tensorflow.keras import preprocessing\n",
    "from tensorflow.keras import metrics\n",
    "from tensorflow.keras import callbacks"
   ]
  },
  {
   "cell_type": "markdown",
   "id": "03e1bec8",
   "metadata": {},
   "source": [
    "## Constants"
   ]
  },
  {
   "cell_type": "code",
   "execution_count": 3,
   "id": "9d7ce85b",
   "metadata": {},
   "outputs": [],
   "source": [
    "DATASET_PATH = pathlib.Path(\"../../../datasets/celeb_df/\")\n",
    "MODELS_PATH = pathlib.Path(\"../../../saved_models\")\n",
    "# TensorBoard logs path\n",
    "LOGS_PATH = pathlib.Path(\"./logs\")\n",
    "IMAGE_SIZE = (256, 256)\n",
    "INPUT_SHAPE = (*IMAGE_SIZE, 3)"
   ]
  },
  {
   "cell_type": "markdown",
   "id": "8d70462c",
   "metadata": {},
   "source": [
    "## Load datasets"
   ]
  },
  {
   "cell_type": "code",
   "execution_count": 4,
   "id": "763328f2",
   "metadata": {},
   "outputs": [],
   "source": [
    "SEED = int(datetime.today().timestamp())\n",
    "VALIDATION_SPLIT = 0.05\n",
    "BATCH_SIZE = 32"
   ]
  },
  {
   "cell_type": "code",
   "execution_count": 5,
   "id": "73a515bd",
   "metadata": {},
   "outputs": [
    {
     "name": "stdout",
     "output_type": "stream",
     "text": [
      "Found 2342158 files belonging to 2 classes.\n",
      "Using 2225051 files for training.\n"
     ]
    }
   ],
   "source": [
    "train_ds = tf.keras.preprocessing.image_dataset_from_directory(\n",
    "    DATASET_PATH,\n",
    "    batch_size=BATCH_SIZE,\n",
    "    image_size=IMAGE_SIZE,\n",
    "    validation_split=VALIDATION_SPLIT,\n",
    "    subset=\"training\",\n",
    "    seed=SEED,\n",
    ")"
   ]
  },
  {
   "cell_type": "code",
   "execution_count": 6,
   "id": "17fa6423",
   "metadata": {},
   "outputs": [
    {
     "name": "stdout",
     "output_type": "stream",
     "text": [
      "Found 2342158 files belonging to 2 classes.\n",
      "Using 117107 files for validation.\n"
     ]
    }
   ],
   "source": [
    "validation_ds = tf.keras.preprocessing.image_dataset_from_directory(\n",
    "    DATASET_PATH,\n",
    "    batch_size=BATCH_SIZE,\n",
    "    image_size=IMAGE_SIZE,\n",
    "    validation_split=VALIDATION_SPLIT,\n",
    "    subset=\"validation\",\n",
    "    seed=SEED,\n",
    ")"
   ]
  },
  {
   "cell_type": "code",
   "execution_count": 7,
   "id": "840d1436",
   "metadata": {},
   "outputs": [
    {
     "data": {
      "text/plain": [
       "0.10647836701990959"
      ]
     },
     "execution_count": 7,
     "metadata": {},
     "output_type": "execute_result"
    }
   ],
   "source": [
    "REALS_TO_FAKE_RATIO = (\n",
    "    len(list(DATASET_PATH.joinpath(\"reals\").iterdir()))\n",
    "    / len(list(DATASET_PATH.joinpath(\"fakes\").iterdir()))\n",
    ")\n",
    "REALS_TO_FAKE_RATIO"
   ]
  },
  {
   "cell_type": "markdown",
   "id": "bcefadd7",
   "metadata": {},
   "source": [
    "## Define model"
   ]
  },
  {
   "cell_type": "code",
   "execution_count": 8,
   "id": "811c5cfa",
   "metadata": {},
   "outputs": [],
   "source": [
    "def build_meso_net() -> None:\n",
    "    model = keras.Sequential()\n",
    "    model.add(layers.InputLayer(INPUT_SHAPE))\n",
    "    # First block\n",
    "    model.add(layers.Conv2D(8, (3, 3), padding=\"same\", activation = \"relu\"))\n",
    "    model.add(layers.BatchNormalization())\n",
    "    model.add(layers.MaxPool2D(pool_size=(2, 2), padding=\"same\"))\n",
    "    # Second block\n",
    "    model.add(layers.Conv2D(8, (5, 5), padding=\"same\", activation = \"relu\"))\n",
    "    model.add(layers.BatchNormalization())\n",
    "    model.add(layers.MaxPool2D(pool_size=(2, 2), padding=\"same\"))\n",
    "    # Third block\n",
    "    model.add(layers.Conv2D(16, (5, 5), padding=\"same\", activation = \"relu\"))\n",
    "    model.add(layers.BatchNormalization())\n",
    "    model.add(layers.MaxPool2D(pool_size=(2, 2), padding=\"same\"))\n",
    "    # Fourth layer\n",
    "    model.add(layers.Conv2D(16, (5, 5), padding=\"same\", activation = \"relu\"))\n",
    "    model.add(layers.BatchNormalization())\n",
    "    model.add(layers.MaxPool2D(pool_size=(4, 4), padding=\"same\"))\n",
    "    # Top\n",
    "    model.add(layers.Flatten())\n",
    "    model.add(layers.Dropout(0.5))\n",
    "    model.add(layers.Dense(16))\n",
    "    model.add(layers.LeakyReLU(alpha=0.1))\n",
    "    model.add(layers.Dropout(0.5))\n",
    "    model.add(layers.Dense(1, activation=\"sigmoid\"))\n",
    "    \n",
    "    return model"
   ]
  },
  {
   "cell_type": "code",
   "execution_count": 9,
   "id": "b19eba2d",
   "metadata": {},
   "outputs": [],
   "source": [
    "model = build_meso_net()"
   ]
  },
  {
   "cell_type": "markdown",
   "id": "46c606e7",
   "metadata": {},
   "source": [
    "## Training"
   ]
  },
  {
   "cell_type": "code",
   "execution_count": 10,
   "id": "c10af12f",
   "metadata": {},
   "outputs": [],
   "source": [
    "METRICS = [\n",
    "        metrics.BinaryAccuracy(),\n",
    "        metrics.AUC(),\n",
    "        #metrics.Precision(),\n",
    "        #metrics.Recall(),\n",
    "        #metrics.TruePositives(),\n",
    "        #metrics.TrueNegatives(),\n",
    "        #metrics.FalsePositives(),\n",
    "        #metrics.FalseNegatives(),\n",
    "    ]"
   ]
  },
  {
   "cell_type": "code",
   "execution_count": 11,
   "id": "95b1d671",
   "metadata": {},
   "outputs": [],
   "source": [
    "# Save each run in individual directory\n",
    "log_dir = LOGS_PATH.joinpath(\"fit\").joinpath(datetime.now().strftime(\"%Y%m%d-%H%M%S\"))\n",
    "\n",
    "CALLBACKS = [\n",
    "    callbacks.EarlyStopping(\n",
    "        monitor=\"val_loss\",\n",
    "        patience=2,\n",
    "    ),\n",
    "    callbacks.ModelCheckpoint(\n",
    "        filepath=MODELS_PATH.joinpath(\"meso_net_{epoch:02d}_{val_loss:.2f}.h5\"),\n",
    "        monitor='val_loss',\n",
    "        save_best_only=True,\n",
    "    ),\n",
    "    callbacks.TensorBoard(log_dir=log_dir),\n",
    "]"
   ]
  },
  {
   "cell_type": "code",
   "execution_count": 12,
   "id": "d9e48111",
   "metadata": {},
   "outputs": [],
   "source": [
    "# Params following \"FaceForensics++: Learning to Detect Manipulated Facial Images\"\n",
    "optimizer = optimizers.Adam(\n",
    "    learning_rate=1e-3,\n",
    "    epsilon=1e-08\n",
    ")"
   ]
  },
  {
   "cell_type": "code",
   "execution_count": 13,
   "id": "e9761491",
   "metadata": {},
   "outputs": [],
   "source": [
    "model.compile(\n",
    "    optimizer=optimizer,\n",
    "    loss=\"binary_crossentropy\",\n",
    "    metrics=METRICS\n",
    ")"
   ]
  },
  {
   "cell_type": "code",
   "execution_count": 14,
   "id": "da86f547",
   "metadata": {},
   "outputs": [
    {
     "name": "stdout",
     "output_type": "stream",
     "text": [
      "WARNING:tensorflow:From c:\\users\\ciche\\desktop\\projects\\dfd\\venv\\lib\\site-packages\\tensorflow\\python\\ops\\array_ops.py:5043: calling gather (from tensorflow.python.ops.array_ops) with validate_indices is deprecated and will be removed in a future version.\n",
      "Instructions for updating:\n",
      "The `validate_indices` argument has no effect. Indices are always validated on CPU and never validated on GPU.\n",
      "Epoch 1/10\n",
      "69533/69533 [==============================] - 2934s 42ms/step - loss: 0.0916 - binary_accuracy: 0.7606 - auc: 0.8528 - val_loss: 0.2676 - val_binary_accuracy: 0.9169 - val_auc: 0.9488\n",
      "Epoch 2/10\n",
      "69533/69533 [==============================] - 2962s 43ms/step - loss: 0.0633 - binary_accuracy: 0.8593 - auc: 0.9363 - val_loss: 0.1394 - val_binary_accuracy: 0.9463 - val_auc: 0.9578\n",
      "Epoch 3/10\n",
      "69533/69533 [==============================] - 2993s 43ms/step - loss: 0.0567 - binary_accuracy: 0.8768 - auc: 0.9492 - val_loss: 0.1893 - val_binary_accuracy: 0.9347 - val_auc: 0.9777\n",
      "Epoch 4/10\n",
      "69533/69533 [==============================] - 2977s 43ms/step - loss: 0.0531 - binary_accuracy: 0.8865 - auc: 0.9557 - val_loss: 0.2506 - val_binary_accuracy: 0.8943 - val_auc: 0.9796\n"
     ]
    }
   ],
   "source": [
    "history = model.fit(\n",
    "    train_ds,\n",
    "    validation_data=validation_ds,\n",
    "    class_weight={\n",
    "        # 0 are fakes since they are first in alphabetical ordering\n",
    "        0: REALS_TO_FAKE_RATIO,\n",
    "        1: 1.0,\n",
    "    },\n",
    "    epochs=10,\n",
    "    callbacks=CALLBACKS\n",
    ")"
   ]
  },
  {
   "cell_type": "code",
   "execution_count": 15,
   "id": "35d4862c",
   "metadata": {},
   "outputs": [
    {
     "data": {
      "text/plain": [
       "{'loss': [0.09156110882759094,\n",
       "  0.0632546916604042,\n",
       "  0.05672319605946541,\n",
       "  0.05305468291044235],\n",
       " 'binary_accuracy': [0.7606275081634521,\n",
       "  0.8593434691429138,\n",
       "  0.8768356442451477,\n",
       "  0.8864551782608032],\n",
       " 'auc': [0.8528405427932739,\n",
       "  0.9363375306129456,\n",
       "  0.9491717219352722,\n",
       "  0.9557192921638489],\n",
       " 'val_loss': [0.2676297724246979,\n",
       "  0.1393992006778717,\n",
       "  0.18926742672920227,\n",
       "  0.25055092573165894],\n",
       " 'val_binary_accuracy': [0.9169221520423889,\n",
       "  0.9463226199150085,\n",
       "  0.9346836805343628,\n",
       "  0.8943017721176147],\n",
       " 'val_auc': [0.948848307132721,\n",
       "  0.9578119516372681,\n",
       "  0.9777187705039978,\n",
       "  0.9796455502510071]}"
      ]
     },
     "execution_count": 15,
     "metadata": {},
     "output_type": "execute_result"
    }
   ],
   "source": [
    "history.history"
   ]
  },
  {
   "cell_type": "code",
   "execution_count": null,
   "id": "325ec542",
   "metadata": {},
   "outputs": [],
   "source": []
  }
 ],
 "metadata": {
  "kernelspec": {
   "display_name": "Python 3 (ipykernel)",
   "language": "python",
   "name": "python3"
  },
  "language_info": {
   "codemirror_mode": {
    "name": "ipython",
    "version": 3
   },
   "file_extension": ".py",
   "mimetype": "text/x-python",
   "name": "python",
   "nbconvert_exporter": "python",
   "pygments_lexer": "ipython3",
   "version": "3.9.6"
  }
 },
 "nbformat": 4,
 "nbformat_minor": 5
}
