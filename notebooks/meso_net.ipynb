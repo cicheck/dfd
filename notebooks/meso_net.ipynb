{
 "cells": [
  {
   "cell_type": "markdown",
   "id": "4c586764",
   "metadata": {},
   "source": [
    "# MesoNet"
   ]
  },
  {
   "cell_type": "markdown",
   "id": "8ced3ea7",
   "metadata": {},
   "source": [
    "## Config"
   ]
  },
  {
   "cell_type": "code",
   "execution_count": 8,
   "id": "c488210b",
   "metadata": {},
   "outputs": [
    {
     "name": "stdout",
     "output_type": "stream",
     "text": [
      "The tensorboard extension is already loaded. To reload it, use:\n",
      "  %reload_ext tensorboard\n"
     ]
    }
   ],
   "source": [
    "# Load the TensorBoard notebook extension\n",
    "%load_ext tensorboard"
   ]
  },
  {
   "cell_type": "markdown",
   "id": "15dae4f1",
   "metadata": {},
   "source": [
    "## Imports"
   ]
  },
  {
   "cell_type": "code",
   "execution_count": 15,
   "id": "1f94fdd5",
   "metadata": {},
   "outputs": [],
   "source": [
    "from datetime import datetime\n",
    "import pathlib\n",
    "import typing as t\n",
    "\n",
    "import tensorflow as tf\n",
    "from tensorflow import keras\n",
    "from tensorflow.keras import applications\n",
    "from tensorflow.keras import layers\n",
    "from tensorflow.keras import optimizers\n",
    "from tensorflow.keras.applications import xception\n",
    "from tensorflow.keras import preprocessing\n",
    "from tensorflow.keras import metrics\n",
    "from tensorflow.keras import callbacks\n",
    "from tensorflow.keras import models"
   ]
  },
  {
   "cell_type": "markdown",
   "id": "03e1bec8",
   "metadata": {},
   "source": [
    "## Constants"
   ]
  },
  {
   "cell_type": "code",
   "execution_count": 10,
   "id": "9d7ce85b",
   "metadata": {},
   "outputs": [],
   "source": [
    "DATASET_PATH = pathlib.Path(\"D:/datasets/celeb_df/\")\n",
    "MODELS_PATH = pathlib.Path(\"../../../saved_models\")\n",
    "# TensorBoard logs path\n",
    "LOGS_PATH = pathlib.Path(\"./logs\")\n",
    "IMAGE_SIZE = (256, 256)\n",
    "INPUT_SHAPE = (*IMAGE_SIZE, 3)"
   ]
  },
  {
   "cell_type": "markdown",
   "id": "8d70462c",
   "metadata": {},
   "source": [
    "## Load datasets"
   ]
  },
  {
   "cell_type": "code",
   "execution_count": 11,
   "id": "763328f2",
   "metadata": {},
   "outputs": [],
   "source": [
    "SEED = int(datetime.today().timestamp())\n",
    "VALIDATION_SPLIT = 0.05\n",
    "BATCH_SIZE = 32"
   ]
  },
  {
   "cell_type": "code",
   "execution_count": 8,
   "id": "73a515bd",
   "metadata": {},
   "outputs": [
    {
     "name": "stdout",
     "output_type": "stream",
     "text": [
      "Found 2342158 files belonging to 2 classes.\n",
      "Using 2225051 files for training.\n"
     ]
    }
   ],
   "source": [
    "train_ds = tf.keras.preprocessing.image_dataset_from_directory(\n",
    "    DATASET_PATH,\n",
    "    batch_size=BATCH_SIZE,\n",
    "    image_size=IMAGE_SIZE,\n",
    "    validation_split=VALIDATION_SPLIT,\n",
    "    subset=\"training\",\n",
    "    seed=SEED,\n",
    ")"
   ]
  },
  {
   "cell_type": "code",
   "execution_count": 12,
   "id": "17fa6423",
   "metadata": {},
   "outputs": [
    {
     "name": "stdout",
     "output_type": "stream",
     "text": [
      "Found 2342158 files belonging to 2 classes.\n",
      "Using 117107 files for validation.\n"
     ]
    }
   ],
   "source": [
    "validation_ds = tf.keras.preprocessing.image_dataset_from_directory(\n",
    "    DATASET_PATH,\n",
    "    batch_size=BATCH_SIZE,\n",
    "    image_size=IMAGE_SIZE,\n",
    "    validation_split=VALIDATION_SPLIT,\n",
    "    subset=\"validation\",\n",
    "    seed=SEED,\n",
    ")"
   ]
  },
  {
   "cell_type": "code",
   "execution_count": 13,
   "id": "840d1436",
   "metadata": {},
   "outputs": [
    {
     "data": {
      "text/plain": [
       "0.10647836701990959"
      ]
     },
     "execution_count": 13,
     "metadata": {},
     "output_type": "execute_result"
    }
   ],
   "source": [
    "REALS_TO_FAKE_RATIO = (\n",
    "    len(list(DATASET_PATH.joinpath(\"reals\").iterdir()))\n",
    "    / len(list(DATASET_PATH.joinpath(\"fakes\").iterdir()))\n",
    ")\n",
    "REALS_TO_FAKE_RATIO"
   ]
  },
  {
   "cell_type": "markdown",
   "id": "bcefadd7",
   "metadata": {},
   "source": [
    "## Define model"
   ]
  },
  {
   "cell_type": "code",
   "execution_count": 11,
   "id": "811c5cfa",
   "metadata": {},
   "outputs": [],
   "source": [
    "def build_meso_net() -> None:\n",
    "    model = keras.Sequential()\n",
    "    model.add(layers.InputLayer(INPUT_SHAPE))\n",
    "    # First block\n",
    "    model.add(layers.Conv2D(8, (3, 3), padding=\"same\", activation = \"relu\"))\n",
    "    model.add(layers.BatchNormalization())\n",
    "    model.add(layers.MaxPool2D(pool_size=(2, 2), padding=\"same\"))\n",
    "    # Second block\n",
    "    model.add(layers.Conv2D(8, (5, 5), padding=\"same\", activation = \"relu\"))\n",
    "    model.add(layers.BatchNormalization())\n",
    "    model.add(layers.MaxPool2D(pool_size=(2, 2), padding=\"same\"))\n",
    "    # Third block\n",
    "    model.add(layers.Conv2D(16, (5, 5), padding=\"same\", activation = \"relu\"))\n",
    "    model.add(layers.BatchNormalization())\n",
    "    model.add(layers.MaxPool2D(pool_size=(2, 2), padding=\"same\"))\n",
    "    # Fourth layer\n",
    "    model.add(layers.Conv2D(16, (5, 5), padding=\"same\", activation = \"relu\"))\n",
    "    model.add(layers.BatchNormalization())\n",
    "    model.add(layers.MaxPool2D(pool_size=(4, 4), padding=\"same\"))\n",
    "    # Top\n",
    "    model.add(layers.Flatten())\n",
    "    model.add(layers.Dropout(0.5))\n",
    "    model.add(layers.Dense(16))\n",
    "    model.add(layers.LeakyReLU(alpha=0.1))\n",
    "    model.add(layers.Dropout(0.5))\n",
    "    model.add(layers.Dense(1, activation=\"sigmoid\"))\n",
    "    \n",
    "    return model"
   ]
  },
  {
   "cell_type": "code",
   "execution_count": 12,
   "id": "b19eba2d",
   "metadata": {},
   "outputs": [],
   "source": [
    "model = build_meso_net()"
   ]
  },
  {
   "cell_type": "markdown",
   "id": "46c606e7",
   "metadata": {},
   "source": [
    "## Training"
   ]
  },
  {
   "cell_type": "code",
   "execution_count": 21,
   "id": "c10af12f",
   "metadata": {},
   "outputs": [],
   "source": [
    "METRICS = [\n",
    "        metrics.BinaryAccuracy(),\n",
    "        metrics.AUC(),\n",
    "        #metrics.Precision(),\n",
    "        #metrics.Recall(),\n",
    "        #metrics.TruePositives(),\n",
    "        #metrics.TrueNegatives(),\n",
    "        #metrics.FalsePositives(),\n",
    "        #metrics.FalseNegatives(),\n",
    "    ]"
   ]
  },
  {
   "cell_type": "code",
   "execution_count": 22,
   "id": "95b1d671",
   "metadata": {},
   "outputs": [],
   "source": [
    "# Save each run in individual directory\n",
    "log_dir = LOGS_PATH.joinpath(\"fit\").joinpath(datetime.now().strftime(\"%Y%m%d-%H%M%S\"))\n",
    "\n",
    "CALLBACKS = [\n",
    "    callbacks.EarlyStopping(\n",
    "        monitor=\"val_loss\",\n",
    "        patience=2,\n",
    "    ),\n",
    "    callbacks.ModelCheckpoint(\n",
    "        filepath=MODELS_PATH.joinpath(\"meso_net_{epoch:02d}_{val_loss:.2f}.h5\"),\n",
    "        monitor='val_loss',\n",
    "        save_best_only=True,\n",
    "    ),\n",
    "    callbacks.TensorBoard(log_dir=log_dir),\n",
    "]"
   ]
  },
  {
   "cell_type": "code",
   "execution_count": 23,
   "id": "d9e48111",
   "metadata": {},
   "outputs": [],
   "source": [
    "# Params following \"FaceForensics++: Learning to Detect Manipulated Facial Images\"\n",
    "optimizer = optimizers.Adam(\n",
    "    learning_rate=1e-3,\n",
    "    epsilon=1e-08\n",
    ")"
   ]
  },
  {
   "cell_type": "code",
   "execution_count": 24,
   "id": "e9761491",
   "metadata": {},
   "outputs": [],
   "source": [
    "model.compile(\n",
    "    optimizer=optimizer,\n",
    "    loss=\"binary_crossentropy\",\n",
    "    metrics=METRICS\n",
    ")"
   ]
  },
  {
   "cell_type": "code",
   "execution_count": 25,
   "id": "da86f547",
   "metadata": {},
   "outputs": [
    {
     "name": "stdout",
     "output_type": "stream",
     "text": [
      "Epoch 1/10\n",
      "41835/69533 [=================>............] - ETA: 25:27 - loss: 0.1050 - binary_accuracy: 0.7053 - auc_2: 0.7916 - precision_1: 0.2024 - recall_1: 0.7032 - true_positives_1: 90416.0000 - true_negatives_1: 853753.0000 - false_positives_1: 356396.0000 - false_negatives_1: 38155.0000- ETA: 53:23 - loss: 0.1330 - binary_accuracy: 0.5535 - auc_2: - ETA: 53:14 - loss: 0.1329 - binary_accuracy: 0.5536 - auc_2: 0.5625 - precision_1: 0.1133 - recall_1: 0.5312 - true_positives_1: 15884.0000 - true_negatives_1: 155602.0000  - ETA: 53:11 - loss: 0.1329 - binary_accuracy: 0.5535 - auc_2: 0.5631 - precision_1: 0.1134 - recall_1: 0.5319 - true_positives_1: 16039.00 - ETA: 53:06 - loss: 0.1328 - binary_accuracy: 0.5551 - auc_2: 0.5644 - precision_1: 0.1138 - recall_1: 0.5321 - true_positives_1: 16258.0000 - true_neg - ETA: 53:02 - loss: 0.1327 - binary_accuracy: 0.5560 - auc_2: 0.5654 - precision_1: 0.1140 - recall_1: 0.5325 - true_positives_1: 16448.0000 - true_negatives_1: 161690.0000 - false_posi - ETA: 52:59 - loss: 0.1327 - binary_accuracy: 0.5565 - auc_2: 0.5659 - precision_1: 0.1141 - recall_1: 0.5327 - true_positives_1: 16553.0000 - true_negatives_1: 162946.0000 - false_positives_1: 128506.0000  - ETA: 52:57 - loss: 0.1327 - binary_accuracy: 0.5566 - auc_2: 0.5662 - precision_1: 0.1143 - recall_1: 0.5329 - true_posi - ETA: 52:50 - loss: 0.1326 - binary - ETA: 52:39 - loss: 0.1324 - binary_accuracy: 0.5581 - auc_2: 0.5697 - precision_1: 0.1151 - recall_1: 0.5359 - true_posit - ETA: 51:52 - loss: 0.1317 - binary_accuracy: 0.5632 - auc_2: 0.5804 - precision_1: 0.1176 - recall_1: 0.5439 - true_positives_1: 19538.0000 - true_negatives_1: 190572.0000 - false_positives_1: 146559.0000 -  - ETA: 51:36 - loss: 0.1314 - binary_accuracy: 0.5646 - auc_2: 0.5842 - precision_1: 0.1186 - recall_1: 0.5476 - true_positives_1: 20276.0000 - true_negatives_1: 196876.0000 - f - ETA: 51:32 - loss: 0.1313 - binary_accuracy: 0.5650 - auc_2: 0.5849 - precision_1: 0.1187 - recall_1: 0.5480 - true_positives_1: 20418.0000 - true_negatives_1: 198321.0000 - false_positives_1: 151591.0000 - false_negatives_1: - ETA: 51:32 - loss: 0.1313 - binary_accuracy: 0.5650 - auc_2: 0.5850 - precision_1: 0.1188 - recall_1: 0.5481 - true_positives_1: 20450.0000 - true_negatives_1: 198579.0000 - false_positives_ - ETA: 51:29 - loss: 0.1313 - binary_accuracy: 0.5649 - auc_2: 0.5854 - precision_ - ETA: 49:21 - loss: 0.1290 - binary_accuracy: 0.5806 - auc_2: 0.6160 -  - ETA: 48:56 - loss: 0.1285 - binary_accuracy: 0.5842 - auc_2: 0.6222 - precision_1: 0.1290 - recall_1: 0.5770 - true_positives_1: 27416.0000 - true_negatives_1: 260777.0000 - false_positives_1: 185053.0000 - false_negatives_1: 20098.0 - ETA: 48:56 - loss: 0.1285 - binary_accuracy: 0.5842 - auc_2: 0.6222 - precision_1: 0.1290 - recall_1: 0.5770 - true_positives_1: 27421.0000 - true_negatives_1: 260842.0000 - false_positives_1: 185077.0000 - false_ne - ETA: 48:55 - loss: 0.1284 - binary_accura - ETA: 47:38 - loss: 0.1268 - binary_accuracy: 0.5951 - auc_2: 0.6394 - precision_1: 0.1342 - recall_1: 0.5889 - true_positives_1: 30752.0000 - true_negatives_1: 292397.0000 - false_positives_1: 198427.0000  - ETA: 47:36 - loss: 0.1267 - binary_accuracy: 0.5954 - auc_2: 0.6399 - precision_1: 0.1343 - recall_1: 0.5892 - true_p - ETA: 47:28 - loss: 0.1265 - binary_accuracy: 0.5967 - auc_2: 0.6418 - precision_1: 0.1349 - recall_1: 0.5904 - true_positives_1: 31176.0000 - true_negatives_1: 296566.0000 - false_positives_1: 199911.0000 - false_negativ - ETA: 47:27 - loss: 0.1264 - binary_accuracy - ETA: 47:13 - loss: 0.1261 - binary_ - ETA: 45:08 - loss: 0.1235 - binary_accuracy: 0.6151 - auc_2: 0.6705 - precision_1: 0.1447 - recall_1: 0.6104 - true_positives_1: 37468.0000 - true_negatives_1: 354583.0000 - false_positive - ETA: 45:05 - loss: 0.1234 - binary_accurac - ETA: 44:51  - ETA: 44:20 - loss: 0.1225 - binary_accuracy: 0.6208 - auc_2: 0.6788 - precision_1: 0.1477 - recall_1: 0.6163 - true_positives_1: 39564.0000 - true_negatives_1: 374429.0000 - false_positives_1: 228250.0000 - false_negati - ETA: 44:19 - loss: 0.1224 - binary_accuracy: 0.6209 - auc_2: 0.6790 - precision_1: 0.1478 - recall_1: 0.6164 - true_positives_1: 39606.0000 - true_negatives_1: 374850.0000 - false_positives_1: 2283 - ETA: 44:16 - loss: 0.1224 - binary_accuracy: 0.6213 - auc - ETA: 43:47 - loss: 0.1217 - binary_accuracy: 0.6250  - ETA: 43:35 - loss: 0.1214 - binary_accuracy: 0.6267 - auc_2: 0.6867 - precision_1: 0.1506 - recall_1: 0.6210 - true_positi - ETA: 42:36 - loss: 0.1202 - binary_accuracy: 0.6330 - auc_2: 0.6961 - precision_1: 0.1542 - recall_1: 0.6279 - true_positives_1: 44107.0 - ETA: 42:28 - loss: 0.1201 - binary_accuracy: 0.6339 - auc_2: 0.6973 - precision_1: 0.154 - ETA: 42:19 - loss: 0.1198 - binary_accuracy: 0.6351 - auc_2: 0.6989 - precision_1: 0.1552 - recall_1: 0.6298 - true_positives_1: 44854.0000 - true_negatives_1: 425915.0000 - false_positives_1 - ETA: 42:16 - loss: 0.1198 - binary_accuracy: 0.6354 - auc_2: 0.6993 - precision_ - ETA: 41:48 - loss: 0.1192 - binary_accuracy: 0.6381 - auc_2: 0.7032 - precision_1: 0.1569 - recall_1: 0.6331 - true_positives_1: 46209.0000 - true_negatives_1: 438652. - ETA: 41:26 - loss: 0.1188 - binary_accuracy: 0.6401 - auc_2: 0.7063 - precision_1: 0.1581 - rec - ETA: 40:08 - loss: 0.1173 - binary_accuracy: 0.6476 - auc_2: 0.7168 - precision_1: 0.1625 - recall_1: 0.6427 - true_positives_1: 50539.0000 - true_negatives_1: 479935.0000 - false_positives_1: 260537. - ETA: 40:06 - loss: 0.1172 - binary_accuracy: 0.6479 - auc_2: 0.7171 - precision_1: 0.1626 - recall_1: 0.6429 - true_positives_1 - ETA: 39:58 - loss: 0.1171 - binary_accuracy: 0.6486 - auc_2: 0.7180 - precision_1: 0.1629 - recall_1: 0.6434 - true_positives_1: 50946.0000 - true_negatives_1: 484365. - ETA: 39:53 - loss: 0.1170 - binary_accuracy: 0.6491 - auc_2: 0.7186 - precision_1: 0.1632 - recall_1: 0.6438 - true_positives_1: 51163.0000 - true_nega - ETA: 39:47 - loss: 0.1169 - binary_accuracy: 0.6496 - auc_2: 0.7193 - precision_1: 0.1635 - recall_1: 0.6444 - true_positives_1: 51 - ETA: 39:23 - loss: 0.1165 - binary_accuracy: 0.6518 - auc_2: 0.7224 - pre - ETA: 38:21 - loss: 0.1154 - binary_accuracy: 0.6572 - auc_2: 0.7294 - precision_1: 0.1682 - recall_1: 0.6519 - true_positives_1: 55223.0000 - true_negatives_1: 524879.0000 - false_positives_1: 273167.0000 - false_ne - ETA: 38:20 - loss: 0.1154 - bin  - ETA: 33:48 - loss: 0.1112 - binary_accuracy: 0.6774 - auc_2: 0.7563 - precision_1: 0.1816 - recall_1: 0.6733 - true_positives_1: 67518.0000 - true_negatives_1: 640365.0000 - false_positives_1: 304285.0000 - false_negati - ETA: 33:46 - loss: 0.1112 - binary_accuracy: 0.6775 - auc_2: 0.7565 - precision_1: 0.1817 - recall_1: 0.6734 - true_positives_1: 67585.0000 - true_negatives_1: 640865.0000 - fal - ETA: 33:42 - loss: 0.1112 - binary_accuracy: 0.6778 - auc_2: 0.7568 - precision_1: 0.1819 - recall_1: 0.6736 - true_positives_1: 67771.0000 - true_negatives_1: 6426 - ETA: 33:21 - loss: 0.1109 - binary_accuracy: 0.6792 - auc_2: 0.7587 - prec - ETA: 32:18 - loss: 0.1100 - binary_accuracy: 0.6830 - - ETA: 29:46 - loss: 0.1081 - binary_accuracy: 0.6917 - auc_2: 0.7751 - precision_1: 0.1922 - recall_ - ETA: 27:02 - loss: 0.1061 - binary_accuracy: 0.7002 - auc_2: 0.7860 - precision_1: 0.1988 - recall_1: 0.6989 - true_positives_1: 86236.0000 - tr - ETA: 26:56 - loss: 0.1060 - binary_accuracy: 0.7006 - au - ETA: 26:08 - loss: 0.1055 - binary_accuracy: 0.7030 - auc_2: 0.7892 - precision_1: 0.2008 - recall_1: 0.7014 - true_positives_1: 88627.0000 - true_negatives_1: 835792.0000 - false_positives_1: 352733.0000 - false_negatives_1: - ETA: 26:07 -  - ETA: 25:34 - loss: 0.1050 - binary_accuracy: 0.7050 - auc_2: 0.7913 - precision_1: 0.2021 - recall_1: 0.7029 - true_positives_1: 90111.0000 - true_negatives_1: 851046.0000 - false_positives_1: 355759.0000 - false_ - ETA: 25:32 - loss: 0.1050 - binary_accuracy: 0.7051 - auc_2: 0.7914 - precision_1: 0.2021 - recall_1: 0.7029 - true_positives_1: 90181.0000 - true_negatives_1: 851778.0000 - ETA: 25:27 - loss: 0.1050 - binary_accuracy: 0.7053 - auc_2: 0.7916 - precision_1: 0.2023 - recall_1: 0.7032 - true_positives_1: 90409.0000 - true_negatives_1: 853705.0000 - false_positives_1: 356388.0000 - false_negatives_1: 38154.00069533/69533 [==============================] - 4075s 59ms/step - loss: 0.0926 - binary_accuracy: 0.7567 - auc_2: 0.8481 - precision_1: 0.2481 - recall_1: 0.7535 - true_positives_1: 161225.0000 - true_negatives_1: 1522488.0000 - false_positives_1: 488602.0000 - false_negatives_1: 52736.0000 - val_loss: 0.2677 - val_binary_accuracy: 0.8938 - val_auc_2: 0.9417 - val_precision_1: 0.4740 - val_recall_1: 0.8034 - val_true_positives_1: 9182.0000 - val_true_negatives_1: 95488.0000 - val_false_positives_1: 10190.0000 - val_false_negatives_1: 2247.0000 ETA: 59s - loss: 0.0930 - binary_accuracy: \n",
      "Epoch 2/10\n",
      "69533/69533 [==============================] - 4107s 59ms/step - loss: 0.0622 - binary_accuracy: 0.8674 - auc_2: 0.9384 - precision_1: 0.4098 - recall_1: 0.8611 - true_positives_1: 184245.0000 - true_negatives_1: 1745746.0000 - false_positives_1: 265344.0000 - false_negatives_1: 29716.0000 - val_loss: 0.1518 - val_binary_accuracy: 0.9469 - val_auc_2: 0.9692 - val_precision_1: 0.7008 - val_recall_1: 0.7957 - val_true_positives_1: 9094.0000 - val_true_negatives_1: 101795.0000 - val_false_positives_1: 3883.0000 - val_false_negatives_1: 2335.0000\n",
      "Epoch 3/10\n",
      "69533/69533 [==============================] - 4110s 59ms/step - loss: 0.0546 - binary_accuracy: 0.8894 - auc_2: 0.9530 - precision_1: 0.4606 - recall_1: 0.8804 - true_positives_1: 188367.0000 - true_negatives_1: 1790522.0000 - false_positives_1: 220568.0000 - false_negatives_1: 25594.0000 - val_loss: 0.1881 - val_binary_accuracy: 0.9417 - val_auc_2: 0.9781 - val_precision_1: 0.6463 - val_recall_1: 0.8893 - val_true_positives_1: 10164.0000 - val_true_negatives_1: 100116.0000 - val_false_positives_1: 5562.0000 - val_false_negatives_1: 1265.00008804 - true_positives_1: 187246.0000 - true_negatives_1: 1779816.0000 - false_ - ETA: 18s - loss: 0.0546 - binary_accuracy: 0.8893 - auc_2: 0.9530 - precisi\n",
      "Epoch 4/10\n",
      "69533/69533 [==============================] - 4137s 59ms/step - loss: 0.0504 - binary_accuracy: 0.8991 - auc_2: 0.9600 - precision_1: 0.4864 - recall_1: 0.8922 - true_positives_1: 190889.0000 - true_negatives_1: 1809551.0000 - false_positives_1: 201539.0000 - false_negatives_1: 23072.0000 - val_loss: 0.1434 - val_binary_accuracy: 0.9535 - val_auc_2: 0.9763 - val_precision_1: 0.7316 - val_recall_1: 0.8261 - val_true_positives_1: 9442.0000 - val_true_negatives_1: 102214.0000 - val_false_positives_1: 3464.0000 - val_false_negatives_1: 1987.0000s_1: 188393.0000 - true_negatives_1: 1785837.0000 - false_positives_1: 199125.0000 - false_negatives_1: 2277 - ETA: 49s - loss: 0.0505 - binary_accuracy: 0.8990 - auc_2: 0 - ETA: 19s - loss: 0.0504 - binary_accuracy: 0.8990 - auc_2: 0.9600 - precision_1: 0.4864 - recall_1: 0.8922 - true_positives_1: 189914 - ETA: 2s - loss: 0.0504 - binary_accuracy: 0.8991 - auc_2: 0.9600 - precision_1: 0.4864 - recall_1: 0.8922 - true_positives_1: 190745.0000 - true_negatives_1: 1808500.0000 - false_\n",
      "Epoch 5/10\n"
     ]
    },
    {
     "name": "stdout",
     "output_type": "stream",
     "text": [
      "69533/69533 [==============================] - 4107s 59ms/step - loss: 0.0481 - binary_accuracy: 0.9054 - auc_2: 0.9635 - precision_1: 0.5047 - recall_1: 0.8958 - true_positives_1: 191670.0000 - true_negatives_1: 1822965.0000 - false_positives_1: 188125.0000 - false_negatives_1: 22291.0000 - val_loss: 0.1858 - val_binary_accuracy: 0.9374 - val_auc_2: 0.9831 - val_precision_1: 0.6204 - val_recall_1: 0.9249 - val_true_positives_1: 10571.0000 - val_true_negatives_1: 99210.0000 - val_false_positives_1: 6468.0000 - val_false_negatives_1: 858.0000 auc_2: 0.9635 - precision_1: 0.5046 - recall_1: 0.8957 - t\n",
      "Epoch 6/10\n",
      "69533/69533 [==============================] - 4101s 59ms/step - loss: 0.0464 - binary_accuracy: 0.9105 - auc_2: 0.9662 - precision_1: 0.5202 - recall_1: 0.8992 - true_positives_1: 192403.0000 - true_negatives_1: 1833617.0000 - false_positives_1: 177473.0000 - false_negatives_1: 21558.0000 - val_loss: 0.2916 - val_binary_accuracy: 0.9076 - val_auc_2: 0.9835 - val_precision_1: 0.5143 - val_recall_1: 0.9584 - val_true_positives_1: 10953.0000 - val_true_negatives_1: 95335.0000 - val_false_positives_1: 10343.0000 - val_false_negatives_1: 476.0000.9662 - precision_1: 0.5199 - recall_1: 0.8993 - true - ETA: 51s - loss: 0.0464 - binary_accuracy: 0.9105 - auc_2: 0.9662 - precision_1: 0.5200 - recall_1: 0.8993 - true_positives_1: 189849.0000 - true_negatives_1: 1809122.0000 - false_positiv - ETA: 48s - loss: 0.0464 - binary_accuracy: 0.9105 - auc_2: 0.9662 - precision_1: 0.5200 - recall_1: 0.8993 - true_positives_1 - ETA: 40s - loss: 0.0464 - binary_accuracy: 0.9105 - auc_2: 0.9662 - precision_1: 0.5200 - recall_1: 0.8993 - true_positives_1: 190390.0000 - true_negatives_1: 1814529.0000 - false - ETA: 35s - loss: 0.0464 - binary_accuracy: 0.9105 - auc_2: 0.9662 - precision_1: 0.5200 - recall_1: 0.8993 - true_positives_1: 190584.0000 - true_negatives_1: 1816542.0000 - false_positives_1: 175909.0000 - false_negat - ETA: 34s - loss: 0.0464 - binary_accuracy: 0.9105 - auc_2: - ET - ETA: 6s - loss: 0.0464 - binary_accuracy: 0.9106 - auc_2: 0.9662 - precision_1: 0.5201 - re - ETA: 1s - loss: 0.0464 - binary_accuracy: 0.9106 - auc_2: 0.9662 - precision_1: 0.5202 - recall_1: 0.8993 - true_positives_1: 192305.0000 - true_negatives_1: 1832910.0000 - false_positives_1: 177\n"
     ]
    }
   ],
   "source": [
    "history = model.fit(\n",
    "    train_ds,\n",
    "    validation_data=validation_ds,\n",
    "    class_weight={\n",
    "        # 0 are fakes since they are first in alphabetical ordering\n",
    "        0: REALS_TO_FAKE_RATIO,\n",
    "        1: 1.0,\n",
    "    },\n",
    "    epochs=10,\n",
    "    callbacks=CALLBACKS\n",
    ")"
   ]
  },
  {
   "cell_type": "code",
   "execution_count": 26,
   "id": "35d4862c",
   "metadata": {
    "scrolled": true
   },
   "outputs": [
    {
     "data": {
      "text/plain": [
       "{'loss': [0.0925951823592186,\n",
       "  0.06220102682709694,\n",
       "  0.05459916964173317,\n",
       "  0.05043787509202957,\n",
       "  0.04811658337712288,\n",
       "  0.046391695737838745],\n",
       " 'binary_accuracy': [0.7567076086997986,\n",
       "  0.86739182472229,\n",
       "  0.889367938041687,\n",
       "  0.8990535736083984,\n",
       "  0.905433177947998,\n",
       "  0.9105499386787415],\n",
       " 'auc_2': [0.848120391368866,\n",
       "  0.9384376406669617,\n",
       "  0.9529570937156677,\n",
       "  0.9599651098251343,\n",
       "  0.963542103767395,\n",
       "  0.9661611318588257],\n",
       " 'precision_1': [0.2481044977903366,\n",
       "  0.40980762243270874,\n",
       "  0.4606282114982605,\n",
       "  0.48643064498901367,\n",
       "  0.5046669840812683,\n",
       "  0.5201824307441711],\n",
       " 'recall_1': [0.7535251975059509,\n",
       "  0.8611148595809937,\n",
       "  0.8803800940513611,\n",
       "  0.8921672701835632,\n",
       "  0.8958174586296082,\n",
       "  0.8992432951927185],\n",
       " 'true_positives_1': [161225.0,\n",
       "  184245.0,\n",
       "  188367.0,\n",
       "  190889.0,\n",
       "  191670.0,\n",
       "  192403.0],\n",
       " 'true_negatives_1': [1522488.0,\n",
       "  1745746.0,\n",
       "  1790522.0,\n",
       "  1809551.0,\n",
       "  1822965.0,\n",
       "  1833617.0],\n",
       " 'false_positives_1': [488602.0,\n",
       "  265344.0,\n",
       "  220568.0,\n",
       "  201539.0,\n",
       "  188125.0,\n",
       "  177473.0],\n",
       " 'false_negatives_1': [52736.0, 29716.0, 25594.0, 23072.0, 22291.0, 21558.0],\n",
       " 'val_loss': [0.26769283413887024,\n",
       "  0.151755690574646,\n",
       "  0.18812476098537445,\n",
       "  0.14338761568069458,\n",
       "  0.18580573797225952,\n",
       "  0.29157596826553345],\n",
       " 'val_binary_accuracy': [0.8937979936599731,\n",
       "  0.9469032883644104,\n",
       "  0.9417029023170471,\n",
       "  0.9534528255462646,\n",
       "  0.9374418258666992,\n",
       "  0.9076144099235535],\n",
       " 'val_auc_2': [0.9417491555213928,\n",
       "  0.9692023992538452,\n",
       "  0.978137731552124,\n",
       "  0.97628253698349,\n",
       "  0.9830840826034546,\n",
       "  0.983533501625061],\n",
       " 'val_precision_1': [0.4739830791950226,\n",
       "  0.7007783055305481,\n",
       "  0.6463181972503662,\n",
       "  0.7315977215766907,\n",
       "  0.6204002499580383,\n",
       "  0.5143219232559204],\n",
       " 'val_recall_1': [0.8033948540687561,\n",
       "  0.7956951856613159,\n",
       "  0.8893166780471802,\n",
       "  0.8261440396308899,\n",
       "  0.924927830696106,\n",
       "  0.9583515524864197],\n",
       " 'val_true_positives_1': [9182.0, 9094.0, 10164.0, 9442.0, 10571.0, 10953.0],\n",
       " 'val_true_negatives_1': [95488.0,\n",
       "  101795.0,\n",
       "  100116.0,\n",
       "  102214.0,\n",
       "  99210.0,\n",
       "  95335.0],\n",
       " 'val_false_positives_1': [10190.0, 3883.0, 5562.0, 3464.0, 6468.0, 10343.0],\n",
       " 'val_false_negatives_1': [2247.0, 2335.0, 1265.0, 1987.0, 858.0, 476.0]}"
      ]
     },
     "execution_count": 26,
     "metadata": {},
     "output_type": "execute_result"
    }
   ],
   "source": [
    "history.history"
   ]
  },
  {
   "cell_type": "code",
   "execution_count": 20,
   "id": "5e0334e8",
   "metadata": {},
   "outputs": [],
   "source": [
    "model_path = pathlib.Path.home().joinpath(\"Desktop/saved_models/meso_net_04_0.14.h5\")"
   ]
  },
  {
   "cell_type": "code",
   "execution_count": 21,
   "id": "dad33238",
   "metadata": {},
   "outputs": [],
   "source": [
    "model = models.load_model(model_path)"
   ]
  },
  {
   "cell_type": "code",
   "execution_count": 23,
   "id": "fcab6565",
   "metadata": {},
   "outputs": [
    {
     "name": "stdout",
     "output_type": "stream",
     "text": [
      "3660/3660 [==============================] - 1023s 277ms/step - loss: 0.1415 - binary_accuracy: 0.9541 - auc_2: 0.9772 - precision_1: 0.7320 - recall_1: 0.8308 - true_positives_1: 9443.0000 - true_negatives_1: 102284.0000 - false_positives_1: 3457.0000 - false_negatives_1: 1923.0000\n"
     ]
    },
    {
     "data": {
      "text/plain": [
       "[0.14153720438480377,\n",
       " 0.9540591239929199,\n",
       " 0.9772054553031921,\n",
       " 0.7320154905319214,\n",
       " 0.8308112025260925,\n",
       " 9443.0,\n",
       " 102284.0,\n",
       " 3457.0,\n",
       " 1923.0]"
      ]
     },
     "execution_count": 23,
     "metadata": {},
     "output_type": "execute_result"
    }
   ],
   "source": [
    "model.evaluate(validation_ds)"
   ]
  },
  {
   "cell_type": "code",
   "execution_count": 14,
   "id": "325ec542",
   "metadata": {
    "scrolled": false
   },
   "outputs": [
    {
     "data": {
      "text/html": [
       "\n",
       "      <iframe id=\"tensorboard-frame-1785c72c009afbe0\" width=\"100%\" height=\"800\" frameborder=\"0\">\n",
       "      </iframe>\n",
       "      <script>\n",
       "        (function() {\n",
       "          const frame = document.getElementById(\"tensorboard-frame-1785c72c009afbe0\");\n",
       "          const url = new URL(\"/\", window.location);\n",
       "          const port = 6006;\n",
       "          if (port) {\n",
       "            url.port = port;\n",
       "          }\n",
       "          frame.src = url;\n",
       "        })();\n",
       "      </script>\n",
       "    "
      ],
      "text/plain": [
       "<IPython.core.display.HTML object>"
      ]
     },
     "metadata": {},
     "output_type": "display_data"
    }
   ],
   "source": [
    "%tensorboard --logdir logs/fit/20210813-084655"
   ]
  },
  {
   "cell_type": "code",
   "execution_count": null,
   "id": "97e558df",
   "metadata": {},
   "outputs": [],
   "source": []
  }
 ],
 "metadata": {
  "kernelspec": {
   "display_name": "Python 3 (ipykernel)",
   "language": "python",
   "name": "python3"
  },
  "language_info": {
   "codemirror_mode": {
    "name": "ipython",
    "version": 3
   },
   "file_extension": ".py",
   "mimetype": "text/x-python",
   "name": "python",
   "nbconvert_exporter": "python",
   "pygments_lexer": "ipython3",
   "version": "3.9.6"
  }
 },
 "nbformat": 4,
 "nbformat_minor": 5
}
